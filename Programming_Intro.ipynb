{
  "nbformat": 4,
  "nbformat_minor": 0,
  "metadata": {
    "colab": {
      "name": "Programming_Intro.ipynb",
      "version": "0.3.2",
      "provenance": [],
      "collapsed_sections": [],
      "include_colab_link": true
    },
    "language_info": {
      "codemirror_mode": {
        "name": "ipython",
        "version": 3
      },
      "file_extension": ".py",
      "mimetype": "text/x-python",
      "name": "python",
      "nbconvert_exporter": "python",
      "pygments_lexer": "ipython3",
      "version": "3.7.3"
    },
    "kernelspec": {
      "display_name": "Python 3",
      "language": "python",
      "name": "python3"
    }
  },
  "cells": [
    {
      "cell_type": "markdown",
      "metadata": {
        "id": "view-in-github",
        "colab_type": "text"
      },
      "source": [
        "<a href=\"https://colab.research.google.com/github/newgenesys/digital-skills-campaign-lessons/blob/master/Programming_Intro.ipynb\" target=\"_parent\"><img src=\"https://colab.research.google.com/assets/colab-badge.svg\" alt=\"Open In Colab\"/></a>"
      ]
    },
    {
      "cell_type": "markdown",
      "metadata": {
        "id": "1gE3lE-uyq2N",
        "colab_type": "text"
      },
      "source": [
        "# Introduction to Programming"
      ]
    },
    {
      "cell_type": "markdown",
      "metadata": {
        "id": "Wk-MDFVyyq2V",
        "colab_type": "text"
      },
      "source": [
        "In this sesction of the series, we will be discussing programming. I know, when we say programming, we might be incline to think of different types of programs like birthday program, night club program, church program, school program, etc which we encounter in our daily lives. \n",
        "\n",
        "But, we are not actually referring to those type of programs. We are referring to computer programs. The type we usually call when we use an application on our computers like Microsoft Word, Excel, GTA Game, Vice City, King of Fighters, Road Rash, Zuma, Candy Jewels, etc. Yes, in a sense these are all computer programs you have used. \n",
        "\n",
        "The question now is where are these applications you are using on your computer coming from? Well, I know some of us will say Google Play store, Internet, etc. Well, that is true but we mean who originally created them, where and how were they created? \n",
        "\n",
        "Okay! People like you and me wrote them using computer programming from their homes and offices with their computers, people called Software Engineers or Developers or Computer Programmers. They wrote them and put them up on the App stores for you to download and use them.\n",
        "\n",
        "We want to take a quick look at what is computer programming, how do we create computer programs and what tools do we use?"
      ]
    },
    {
      "cell_type": "markdown",
      "metadata": {
        "id": "yH1LZTCVyq2b",
        "colab_type": "text"
      },
      "source": [
        "## What is Computer Programming?"
      ]
    },
    {
      "cell_type": "markdown",
      "metadata": {
        "id": "eVAs5v5gyq2g",
        "colab_type": "text"
      },
      "source": [
        "Before we answer What is programming, let us disect each word separately and define them\n",
        "\n",
        "**What is a Computer?**\n",
        "In the most basic way, a computer is an electronic device that accepts a variable set of input, performs processes, calculations and operations based on instructions provided by a software or hardware program and provides a set of output.\n",
        "\n",
        "**How can we identify computers?**\n",
        "- It is electronic\n",
        "- Takes input\n",
        "- performs calculations or processing\n",
        "- Can be programmed with instructions\n",
        "- Returns an output\n",
        "\n",
        "**What is Programing?**\n",
        "Basically, if we say we are making a program in normal life, we mean we are writing down some things to be done by some people or by us in a sequence of steps.\n",
        "\n",
        "Generally, we say this is the process of scheduling something, especially radio or television programmes as a set of steps to carry out something we are to do.\n",
        "\n",
        "What are examples of programs you know? *Participants should put hands up and give examples around them*\n",
        "- Timetable of our school is a program given by the school to teachers and students instructing them to follow\n",
        "- In the church we have a program for our service or mass which instructs the priest, organizers and attendants on what to do and when to do it and to an extent how to do it.\n",
        "\n",
        "\n",
        "Now that we know what a comoputer is and what a program is, we can now combine these two and summarise the full meaning of Computer Programming.\n",
        "\n",
        "Now, the main question, **What is Computer Programming?** *Let the participants try*\n",
        "\n",
        "Computer Programming is the process of designing, building and writing instructions or programs used to instruct the computer to perform a specific task or set of tasks.\n",
        "\n",
        "Unlike humans who use English, French, Spanish or other human Languages to make church programs, school program, party program, etc, the computer has its own language it understands and speaks. Thereofore, if we are to communicate to spanish people a program, we will communicate in spanish, French person likewise and English person likewise, a computer device in its own language.\n",
        "\n",
        "Computers understand things using 1's and 0's or what we call binary numbers but we will not write these binary numbers directly to program a computer, we will use what we call a computer language and then convert (translate) it into what the computer understands. Humans can learn to speak in 1's and 0's but it may not be good to do so because it is too detailed for humans. \n",
        "\n",
        "So, humans came up with **computer languages** which is semi-human language and semi-computer language. It is close to what we humans speak and close to what the computer understands. \n",
        "\n",
        "However, for humans to fully understand and write it for a computer humans learn this language. For computers to be able to interprete and understand what the human is asking it to do, we need to translate it into 1's and 0's (Machine's code) **(compilation, Interpretation)** before giving it to the computer.\n",
        "\n",
        "We have seen some new words, **Compilation**, **Interpretation**, **Programming Language**. These words form the concept around the tools we use to write computer programs or we use to do computer programming."
      ]
    },
    {
      "cell_type": "markdown",
      "metadata": {
        "id": "mwzYelupyq2o",
        "colab_type": "text"
      },
      "source": [
        "## What is a Programming Language?"
      ]
    },
    {
      "cell_type": "markdown",
      "metadata": {
        "id": "ONeLylziyq2s",
        "colab_type": "text"
      },
      "source": [
        "A programming language is a vocabulary and set of grammatical rules for instructing a computer or computing device to perform specific tasks, which comprises a set of instructions that produce various kinds of output. The term programming language usually refers to high-level languages, such as Python, Java, .NET, PHP, BASIC, C, C++, COBOL, Java, FORTRAN, Ada, and Pascal.\n",
        "\n",
        "A programming language is a special language programmers use to develop software programs, scripts, or other sets of instructions for computers to execute.\n",
        "\n",
        "\n",
        "\n",
        "After writing  a program using a programming language of your choice we call what you have  written the **Source Code** which we need to convert it to a format the computer can easily understand (Machine codes or Executable code) to perform the task. \n",
        "\n",
        "The process of coverting a program from the programming language source code to the executable machine code is called **Compilation**, the tool which automatically does this conversion is called **a compiler**\n",
        "\n",
        "In some programming languages, we do not have to compile them, instead we use a tool called **an interpreter** to **Interprete** the code from the source code to a machine code.\n",
        "\n",
        "Think of this compiler and interpreters as other computer programs which function like human translators and interpreters.\n",
        "\n",
        "What does human translators and interpreters do? *Participants should try*\n",
        "\n",
        "They translate from one human language to the other and they can interprete what has been written in a specific way to give meaning to it. \n",
        "\n",
        "The same thing is what the Compiler and Interpreter does in a computer's world.\n",
        "\n",
        "But before we speak English and French, we do learn about Letters, Alphabets, Symbols, Words, Nouns, etc. Like every other language, computer languages have their own letters, alphabet and symbols. Which means to be able to write and read a computer language we must learn this alphabet and how to form words with them.\n",
        "\n",
        "That is how simple it can be to learn a computer language. Just like it can be to learn any other human language. Learn the alphabet and how to use its letters and symbols and you will be able to form words and new sentences. \n",
        "\n",
        "Therefore, when you hear about a computer language think of human language like Frenchn and English and first thing you need to learn is the Alphabet of the computer language and next the Syntax and Semantics of the language. Syntax and Semantics are words we use in our human world as well, so they are not new. But let us explain a little"
      ]
    },
    {
      "cell_type": "markdown",
      "metadata": {
        "id": "5YGAG4uiyq2y",
        "colab_type": "text"
      },
      "source": [
        "## What is Syntax?\n",
        "\n",
        "In linguistics or study of languages, syntax is the set of rules, principles and processes that guide or govern the structure of sentences in a given language, usually including word order. The term syntax is also used to refer to the study of such principles and processes.\n",
        "\n",
        "For example: in English, the words\n",
        "\n",
        "**Let us eat Mum.** \n",
        "\n",
        "**The cow is flying.**\n",
        "\n",
        "**That pig is dancing.**\n",
        "\n",
        "Syntactically are correct, the words in their order have a valid interpretation in English Language. But do they make sense? That is what semantics tries to handle when we form sentences.\n",
        "\n",
        "In Mathematical language, History language, Literature, etc there is a certain way we write things using symbols too and we can say if what we have written is mathematically correct.\n",
        "\n",
        "Example: \n",
        "\n",
        "**1 + a = b**\n",
        "\n",
        "In history may not have any interpretation, in mathematics there may be an interpretation but the interpretation will not make sense if we do not say what a and b represent."
      ]
    },
    {
      "cell_type": "markdown",
      "metadata": {
        "id": "EJKfXeF0yq22",
        "colab_type": "text"
      },
      "source": [
        "### Computer Language Syntax\n",
        "\n",
        "In computer science, the syntax of a computer language is the set of rules that defines the combinations of symbols that are considered to be a correctly structured document or fragment in that language.\n",
        "\n",
        "In programming, syntax refers to the rules that specify the correct combined sequence of symbols that can be used to form a correctly structured program using a given programming language. Programmers communicate with computers through the correctly structured syntax, semantics and grammar of a programming language."
      ]
    },
    {
      "cell_type": "markdown",
      "metadata": {
        "id": "pxFT47Bfyq27",
        "colab_type": "text"
      },
      "source": [
        "## What is Semantics?\n",
        "\n",
        "Simply put, it is the meaning of a word, phrase, or text.\n",
        "\n",
        "Semantics is the linguistic and philosophical study of meaning, in language, programming languages, formal logics, and semiotics. It is concerned with the relationship between signifiers—like words, phrases, signs, and symbols—and what they stand for in reality, their denotation.\n",
        "\n",
        "The branch of linguistics and logic concerned with meaning. The two main areas are logical semantics, concerned with matters such as sense and reference and presupposition and implication, and lexical semantics, concerned with the analysis of word meanings and relations between them.\n",
        "\n",
        "It can be applied to entire texts or to single words. For example, \"destination\" and \"last stop\" technically mean the same thing, but students of semantics analyze their subtle shades of meaning.\n",
        "\n",
        "Let us now go back to our examples under Syntax;-\n",
        "\n",
        "**Let us eat Mum.** \n",
        "\n",
        "**The cow is flying.**\n",
        "\n",
        "**That pig is dancing.**\n",
        "\n",
        "Syntactically are correct but semantically may not be sound, the words in their order have a valid interpretation in English Language. But do they make sense? No.\n",
        "\n",
        "### Computer Language Semantics\n",
        "\n",
        "In programming language theory, semantics is the field concerned with the rigorous mathematical study of the meaning of programming languages. It does so by evaluating the meaning of syntactically valid strings defined by a specific programming language, showing the computation involved.\n",
        "\n",
        "### Computer Language Syntax and Semantics\n",
        "\n",
        "Since a language is a set of valid sentences. What then makes a sentence valid? \n",
        "\n",
        "You can break validity down into two things as seen here: syntax and semantics. \n",
        "\n",
        "The term syntax refers to grammatical structure whereas the term semantics refers to the meaning of the vocabulary symbols arranged with that structure. \n",
        "\n",
        "Grammatical (syntactically valid) does not imply sensible (semantically valid), however. \n",
        "\n",
        "For example, the grammatical sentence \n",
        "\n",
        "**\"cows flow supremely\"** \n",
        "\n",
        "is grammatically ok (subject verb adverb) in English, but makes no sense. Similarly, in a programming language, your grammar (syntax rules) may allow ID EQUALS ID but the language may only allow the sentence if the text matched for ID does not represent a type name (a semantic rule).\n",
        "\n",
        "When you write in a programming grammar, you are specifying the set of syntax rules obeyed by your language. The programming grammar uses this to generate a recognizer for sentences in that language. \n",
        "\n",
        "To apply semantic rules, you must add actions or semantic predicates to the grammar. The actions test the \"value\" of the various tokens (parts) and their relationships to determine semantic validity. \n",
        "\n",
        "For example, if you look up a type name in a symbol table to ensure it's a type not a variable, you are applying a semantic rule. "
      ]
    },
    {
      "cell_type": "markdown",
      "metadata": {
        "id": "xQJg9iKbyq2_",
        "colab_type": "text"
      },
      "source": [
        "## What is a Computer Language Alphabet?\n"
      ]
    },
    {
      "cell_type": "markdown",
      "metadata": {
        "id": "uGbfVh9-yq3G",
        "colab_type": "text"
      },
      "source": [
        "In this series, we will be using Python Programming Language as we will see in the next session. Therefore, we will use it here as an example to understand what we mean by alphabet of a computer language. As oppose to human languages where we have single letters as the smallest unit used to form sentences. In Computer programming we have a table of special words that are used as the basic unit of forming programming statements, sentences and paragraphs (blocks)\n",
        "\n",
        "Think of these in terms of human language;-\n",
        "\n",
        "\n",
        "    |In human language | In Computer Language|\n",
        "\n",
        "    |==================|=====================|\n",
        "\n",
        "    Letters            | Keywords          \n",
        "\n",
        "    Statements         | Statements\n",
        "\n",
        "    Simple Statements  | Simple Statements\n",
        "\n",
        "    Compund Statements | Compound Statements\n",
        "\n",
        "    Pragraphs          | Block\n",
        "\n",
        "![](http://3.bp.blogspot.com/-xaLZUIrPb1s/Us0Xs5KjT9I/AAAAAAAAAv4/X0NnYq3Zzfg/s1600/keywords.png)\n",
        "\n",
        "\n",
        "\n",
        "In Python Programming language, the keywords can be gotten using the following code segment"
      ]
    },
    {
      "cell_type": "code",
      "metadata": {
        "id": "IRjdAM_Myq3L",
        "colab_type": "code",
        "outputId": "f6378df9-738f-4fa5-fda6-ad43e3001f9f",
        "colab": {
          "base_uri": "https://localhost:8080/",
          "height": 54
        }
      },
      "source": [
        "import keyword # Import the python keyword library\n",
        "\n",
        "print(keyword.kwlist) # Printing the list of keywords in the current version of python this notebook is running on"
      ],
      "execution_count": 0,
      "outputs": [
        {
          "output_type": "stream",
          "text": [
            "['False', 'None', 'True', 'and', 'as', 'assert', 'break', 'class', 'continue', 'def', 'del', 'elif', 'else', 'except', 'finally', 'for', 'from', 'global', 'if', 'import', 'in', 'is', 'lambda', 'nonlocal', 'not', 'or', 'pass', 'raise', 'return', 'try', 'while', 'with', 'yield']\n"
          ],
          "name": "stdout"
        }
      ]
    },
    {
      "cell_type": "markdown",
      "metadata": {
        "id": "cyLuTbDUyq3d",
        "colab_type": "text"
      },
      "source": [
        "Learning to use the language involves know how to use these keywords to form simple, compound and block statements in python programming language. We will end here for now, and the next session of this series you will be shown some other basic things in Programming and Python Programming in particular. \n",
        "\n",
        "_Ask your questions when in doubt and your knowledge of the world around you will get better and better with each answer you receive!_"
      ]
    },
    {
      "cell_type": "markdown",
      "metadata": {
        "id": "dtjFNvLmyq3g",
        "colab_type": "text"
      },
      "source": [
        "Next **Python programming Introduction**"
      ]
    },
    {
      "cell_type": "markdown",
      "metadata": {
        "id": "R1aqi8kyyq3j",
        "colab_type": "text"
      },
      "source": [
        "# References and Sources\n",
        "- [Programiz](https://www.programiz.com/python-programming/keyword-list)\n",
        "- [JGuru](http://www.jguru.com/faq/view.jsp?EID=81)\n",
        "- [Computer hope](https://www.computerhope.com/jargon/p/proglang.htm)\n",
        "- [Python Nitol](http://python-nitol.blogspot.com/search/label/Keywords)"
      ]
    },
    {
      "cell_type": "markdown",
      "metadata": {
        "id": "QU2wHYSCyq3l",
        "colab_type": "text"
      },
      "source": [
        "*Copyright &copy; 2019 The New Generation Technologies.  All rights reserved.*"
      ]
    }
  ]
}